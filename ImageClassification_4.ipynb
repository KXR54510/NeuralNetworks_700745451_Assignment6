{
  "nbformat": 4,
  "nbformat_minor": 0,
  "metadata": {
    "colab": {
      "provenance": []
    },
    "kernelspec": {
      "name": "python3",
      "display_name": "Python 3"
    },
    "language_info": {
      "name": "python"
    }
  },
  "cells": [
    {
      "cell_type": "code",
      "execution_count": 1,
      "metadata": {
        "colab": {
          "base_uri": "https://localhost:8080/"
        },
        "id": "VsHZYhXKrmRA",
        "outputId": "feb70af6-4203-40c7-df60-35725edbdd1d"
      },
      "outputs": [
        {
          "output_type": "stream",
          "name": "stdout",
          "text": [
            "Downloading data from https://storage.googleapis.com/tensorflow/tf-keras-datasets/mnist.npz\n",
            "11490434/11490434 [==============================] - 1s 0us/step\n",
            "(28, 28)\n",
            "784\n",
            "Epoch 1/10\n",
            "235/235 [==============================] - 13s 50ms/step - loss: 7.1164 - accuracy: 0.8726 - val_loss: 0.7212 - val_accuracy: 0.9056\n",
            "Epoch 2/10\n",
            "235/235 [==============================] - 5s 20ms/step - loss: 0.4010 - accuracy: 0.9453 - val_loss: 0.6054 - val_accuracy: 0.9258\n",
            "Epoch 3/10\n",
            "235/235 [==============================] - 5s 21ms/step - loss: 0.2324 - accuracy: 0.9601 - val_loss: 0.4047 - val_accuracy: 0.9423\n",
            "Epoch 4/10\n",
            "235/235 [==============================] - 5s 21ms/step - loss: 0.1761 - accuracy: 0.9679 - val_loss: 0.2555 - val_accuracy: 0.9577\n",
            "Epoch 5/10\n",
            "235/235 [==============================] - 5s 20ms/step - loss: 0.1583 - accuracy: 0.9727 - val_loss: 0.2695 - val_accuracy: 0.9648\n",
            "Epoch 6/10\n",
            "235/235 [==============================] - 5s 22ms/step - loss: 0.1351 - accuracy: 0.9761 - val_loss: 0.2610 - val_accuracy: 0.9659\n",
            "Epoch 7/10\n",
            "235/235 [==============================] - 4s 19ms/step - loss: 0.1237 - accuracy: 0.9801 - val_loss: 0.2888 - val_accuracy: 0.9681\n",
            "Epoch 8/10\n",
            "235/235 [==============================] - 5s 21ms/step - loss: 0.1173 - accuracy: 0.9807 - val_loss: 0.2874 - val_accuracy: 0.9691\n",
            "Epoch 9/10\n",
            "235/235 [==============================] - 6s 26ms/step - loss: 0.1077 - accuracy: 0.9829 - val_loss: 0.2675 - val_accuracy: 0.9734\n",
            "Epoch 10/10\n",
            "235/235 [==============================] - 6s 24ms/step - loss: 0.1053 - accuracy: 0.9854 - val_loss: 0.3169 - val_accuracy: 0.9707\n"
          ]
        }
      ],
      "source": [
        "from keras import Sequential\n",
        "from keras.datasets import mnist\n",
        "import numpy as np\n",
        "from keras.layers import Dense\n",
        "from keras.utils import to_categorical\n",
        "\n",
        "(train_images,train_labels),(test_images, test_labels) = mnist.load_data()\n",
        "\n",
        "print(train_images.shape[1:])\n",
        "#process the data\n",
        "#1. convert each image of shape 28*28 to 784 dimensional which will be fed to the network as a single feature\n",
        "dimData = np.prod(train_images.shape[1:])\n",
        "print(dimData)\n",
        "train_data = train_images.reshape(train_images.shape[0],dimData)\n",
        "test_data = test_images.reshape(test_images.shape[0],dimData)\n",
        "\n",
        "#convert data to float and scale values between 0 and 1\n",
        "train_data = train_data.astype('float')\n",
        "test_data = test_data.astype('float')\n",
        "\n",
        "#Commenting the scale data part\n",
        "#train_data /=255.0\n",
        "#test_data /=255.0\n",
        "\n",
        "#change the labels frominteger to one-hot encoding. to_categorical is doing the same thing as LabelEncoder()\n",
        "train_labels_one_hot = to_categorical(train_labels)\n",
        "test_labels_one_hot = to_categorical(test_labels)\n",
        "\n",
        "#creating network\n",
        "model = Sequential()\n",
        "model.add(Dense(512, activation='relu', input_shape=(dimData,)))\n",
        "model.add(Dense(512, activation='relu'))\n",
        "model.add(Dense(10, activation='softmax'))\n",
        "\n",
        "#Feeding the unscaled data to the network\n",
        "model.compile(optimizer='rmsprop', loss='categorical_crossentropy', metrics=['accuracy'])\n",
        "history = model.fit(train_data, train_labels_one_hot, batch_size=256, epochs=10, verbose=1,\n",
        "                   validation_data=(test_data, test_labels_one_hot))"
      ]
    }
  ]
}